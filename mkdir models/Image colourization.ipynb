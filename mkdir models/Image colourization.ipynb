{
 "cells": [
  {
   "cell_type": "code",
   "execution_count": 1,
   "metadata": {},
   "outputs": [],
   "source": [
    "import numpy as np\n",
    "import cv2 as cv\n",
    "import os.path"
   ]
  },
  {
   "cell_type": "code",
   "execution_count": 12,
   "metadata": {},
   "outputs": [],
   "source": [
    "frame = cv.imread(\"test2.jpg\")\n",
    "numpy_file = np.load('pts_in_hull.npy')\n",
    "Caffe_net = cv.dnn.readNetFromCaffe(\"colorization_deploy_v2.prototxt\", \"colorization_release_v2_norebal.caffemodel\")\n"
   ]
  },
  {
   "cell_type": "code",
   "execution_count": 13,
   "metadata": {},
   "outputs": [],
   "source": [
    "numpy_file = numpy_file.transpose().reshape(2, 313, 1, 1)\n",
    "Caffe_net.getLayer(Caffe_net.getLayerId('class8_ab')).blobs = [numpy_file.astype(np.float32)]\n",
    "Caffe_net.getLayer(Caffe_net.getLayerId('conv8_313_rh')).blobs = [np.full([1, 313], 2.606, np.float32)]"
   ]
  },
  {
   "cell_type": "code",
   "execution_count": 14,
   "metadata": {},
   "outputs": [],
   "source": [
    "input_width = 224\n",
    "input_height = 224\n",
    "rgb_img = (frame[:,:,[2, 1, 0]] * 1.0 / 255).astype(np.float32)\n",
    "lab_img = cv.cvtColor(rgb_img, cv.COLOR_RGB2Lab)\n",
    "l_channel = lab_img[:,:,0] \n",
    "l_channel_resize = cv.resize(l_channel, (input_width, input_height)) \n",
    "l_channel_resize -= 50"
   ]
  },
  {
   "cell_type": "code",
   "execution_count": 15,
   "metadata": {},
   "outputs": [],
   "source": [
    "numpy_file = numpy_file.transpose().reshape(2, 313, 1, 1)\n",
    "Caffe_net.getLayer(Caffe_net.getLayerId('class8_ab')).blobs = [numpy_file.astype(np.float32)]\n",
    "Caffe_net.getLayer(Caffe_net.getLayerId('conv8_313_rh')).blobs = [np.full([1, 313], 2.606, np.float32)]"
   ]
  },
  {
   "cell_type": "code",
   "execution_count": 16,
   "metadata": {},
   "outputs": [],
   "source": [
    "input_width = 224\n",
    "input_height = 224\n",
    "rgb_img = (frame[:,:,[2, 1, 0]] * 1.0 / 255).astype(np.float32)\n",
    "lab_img = cv.cvtColor(rgb_img, cv.COLOR_RGB2Lab)\n",
    "l_channel = lab_img[:,:,0] \n",
    "l_channel_resize = cv.resize(l_channel, (input_width, input_height)) \n",
    "l_channel_resize -= 50"
   ]
  },
  {
   "cell_type": "code",
   "execution_count": 17,
   "metadata": {},
   "outputs": [
    {
     "data": {
      "text/plain": [
       "True"
      ]
     },
     "execution_count": 17,
     "metadata": {},
     "output_type": "execute_result"
    }
   ],
   "source": [
    "Caffe_net.setInput(cv.dnn.blobFromImage(l_channel_resize))\n",
    "ab_channel = Caffe_net.forward()[0,:,:,:].transpose((1,2,0)) \n",
    "(original_height,original_width) = rgb_img.shape[:2] \n",
    "ab_channel_us = cv.resize(ab_channel, (original_width, original_height))\n",
    "lab_output = np.concatenate((l_channel[:,:,np.newaxis],ab_channel_us),axis=2) \n",
    "bgr_output = np.clip(cv.cvtColor(lab_output, cv.COLOR_Lab2BGR), 0, 1)\n",
    "cv.imwrite(\"./result.png\", (bgr_output*255).astype(np.uint8))"
   ]
  },
  {
   "cell_type": "code",
   "execution_count": 11,
   "metadata": {},
   "outputs": [
    {
     "data": {
      "text/plain": [
       "array([[[0.        , 0.09346214, 0.        ],\n",
       "        [0.        , 0.09346214, 0.        ],\n",
       "        [0.        , 0.09346214, 0.        ],\n",
       "        ...,\n",
       "        [0.        , 0.09414709, 0.        ],\n",
       "        [0.        , 0.09414709, 0.        ],\n",
       "        [0.        , 0.09414709, 0.        ]],\n",
       "\n",
       "       [[0.        , 0.09346214, 0.        ],\n",
       "        [0.        , 0.09346214, 0.        ],\n",
       "        [0.        , 0.09346214, 0.        ],\n",
       "        ...,\n",
       "        [0.        , 0.09414709, 0.        ],\n",
       "        [0.        , 0.09414709, 0.        ],\n",
       "        [0.        , 0.09414709, 0.        ]],\n",
       "\n",
       "       [[0.        , 0.09346214, 0.        ],\n",
       "        [0.        , 0.09346214, 0.        ],\n",
       "        [0.        , 0.09346214, 0.        ],\n",
       "        ...,\n",
       "        [0.        , 0.09414709, 0.        ],\n",
       "        [0.        , 0.09414709, 0.        ],\n",
       "        [0.        , 0.09414709, 0.        ]],\n",
       "\n",
       "       ...,\n",
       "\n",
       "       [[0.        , 0.08319528, 0.        ],\n",
       "        [0.        , 0.08982268, 0.        ],\n",
       "        [0.        , 0.09195521, 0.        ],\n",
       "        ...,\n",
       "        [0.        , 0.09308325, 0.        ],\n",
       "        [0.        , 0.09308325, 0.        ],\n",
       "        [0.        , 0.09308325, 0.        ]],\n",
       "\n",
       "       [[0.        , 0.08319528, 0.        ],\n",
       "        [0.        , 0.09195521, 0.        ],\n",
       "        [0.00213597, 0.09404541, 0.        ],\n",
       "        ...,\n",
       "        [0.        , 0.09308325, 0.        ],\n",
       "        [0.        , 0.09308325, 0.        ],\n",
       "        [0.        , 0.09308325, 0.        ]],\n",
       "\n",
       "       [[0.        , 0.08319528, 0.        ],\n",
       "        [0.        , 0.09195521, 0.        ],\n",
       "        [0.00606614, 0.09609537, 0.        ],\n",
       "        ...,\n",
       "        [0.        , 0.09308325, 0.        ],\n",
       "        [0.        , 0.09308325, 0.        ],\n",
       "        [0.        , 0.09308325, 0.        ]]], dtype=float32)"
      ]
     },
     "execution_count": 11,
     "metadata": {},
     "output_type": "execute_result"
    }
   ],
   "source": [
    "bgr_output"
   ]
  },
  {
   "cell_type": "code",
   "execution_count": null,
   "metadata": {},
   "outputs": [],
   "source": []
  }
 ],
 "metadata": {
  "kernelspec": {
   "display_name": "Python 3",
   "language": "python",
   "name": "python3"
  },
  "language_info": {
   "codemirror_mode": {
    "name": "ipython",
    "version": 3
   },
   "file_extension": ".py",
   "mimetype": "text/x-python",
   "name": "python",
   "nbconvert_exporter": "python",
   "pygments_lexer": "ipython3",
   "version": "3.8.5"
  }
 },
 "nbformat": 4,
 "nbformat_minor": 4
}
